{
 "cells": [
  {
   "cell_type": "markdown",
   "id": "33f8d2b1",
   "metadata": {},
   "source": [
    "# Data Analysis Project Part 2\n",
    "\n",
    "## Noah Choate and Elijah Ritchie"
   ]
  },
  {
   "cell_type": "markdown",
   "id": "b741e47d",
   "metadata": {},
   "source": [
    "## Introduction\n",
    "\n",
    "Since the beginning of our academic careers students have always been told that studying ensures a good grade on the upcoming exam. With this analysis, we aim to verify the integrity of teachers and instructors across the United States and their persistent studying talks. We will do so by utilzing k-clusters and examine what cluster performs the best on exams - the ones who study or the ones who do not."
   ]
  },
  {
   "cell_type": "markdown",
   "id": "f2a43a0e",
   "metadata": {},
   "source": [
    "## Data Information\n",
    "\n",
    "For the purpose of this assignment, the dataset that will be analyzed is a very simple student exam data found on kaggle. The dataset has 500 entries and 3 columns; Study Hours, Previous Exam Score, and Pass/Fail."
   ]
  },
  {
   "cell_type": "markdown",
   "id": "caec03b8",
   "metadata": {},
   "source": [
    "## Loading the Libraries / Data\n",
    "\n",
    "To begin we loaded pandas to help manipulate the dataframe to perform an accurate data analysis. We also noted the Mean and Standard Deviation of the variables we are planning to use; Study Hours and Previous Exam scores. This will be useful during our analysis when we begin interpreting our cluster plot. It is important to note these values before normalizing the values as they will be more difficult to interpret.  Next, while utilzing sklearn, we loaded KMeans to initiate the K-Means clustering algorithm which uses a user-set k-value to cluster / organize the data from the dataset around k numbers of centroids. We additionally loaded Standard Scaler to scale our the variables used during the analysis, which improves accuracy behind the k-means algorithm. The last package we loaded was matplotlib, which enables visualizations of our analysis. Finally, we loaded the dataset into the kernel. The first computations we did were finding the means and standard deviations of the variables we are going to use, they will be useful for interpretations later."
   ]
  },
  {
   "cell_type": "code",
   "execution_count": 1,
   "id": "0689cebb",
   "metadata": {},
   "outputs": [],
   "source": [
    "# Load necessary packages\n",
    "import pandas as pd\n",
    "from sklearn.cluster import KMeans\n",
    "from sklearn.preprocessing import StandardScaler\n",
    "import matplotlib.pyplot as plt\n",
    "\n",
    "# Load the dataset\n",
    "df = pd.read_csv(\"data/student_exam_data_new.csv\")"
   ]
  },
  {
   "cell_type": "code",
   "execution_count": 2,
   "id": "7e3199bd",
   "metadata": {},
   "outputs": [
    {
     "name": "stdout",
     "output_type": "stream",
     "text": [
      "Mean Study Hours: 5.487055410106127\n",
      "Standard Deviation Study Hours: 2.688195675704332\n",
      "Previous Exam Score Mean: 68.91708366437523\n",
      "Previous Exam Score Standard Deviation: 17.12960741315282\n"
     ]
    }
   ],
   "source": [
    "# Evaluate Mean and SD of Previous Exam Scores and Study Hours\n",
    "studyhrs_mean = df['Study Hours'].mean()\n",
    "studyhrs_std = df['Study Hours'].std()\n",
    "\n",
    "print(\"Mean Study Hours:\", studyhrs_mean)\n",
    "print(\"Standard Deviation Study Hours:\", studyhrs_std)\n",
    "\n",
    "exam_mean = df['Previous Exam Score'].mean()\n",
    "exam_std = df['Previous Exam Score'].std()\n",
    "\n",
    "print(\"Previous Exam Score Mean:\", exam_mean)\n",
    "print(\"Previous Exam Score Standard Deviation:\", exam_std)"
   ]
  },
  {
   "cell_type": "markdown",
   "id": "2a55e74a",
   "metadata": {},
   "source": [
    "## Cleaning the data\n",
    "\n",
    "Luckily, the dataset provided from kaggle was a very simple three column dataframe. While there was no real additonal cleaning needed, we made sure by dropping any possible NA values, followed by dropping the binary Pass/Fail column as it will not be needed for this analysis."
   ]
  },
  {
   "cell_type": "code",
   "execution_count": 3,
   "id": "40a9cdbc",
   "metadata": {},
   "outputs": [
    {
     "data": {
      "text/html": [
       "<div>\n",
       "<style scoped>\n",
       "    .dataframe tbody tr th:only-of-type {\n",
       "        vertical-align: middle;\n",
       "    }\n",
       "\n",
       "    .dataframe tbody tr th {\n",
       "        vertical-align: top;\n",
       "    }\n",
       "\n",
       "    .dataframe thead th {\n",
       "        text-align: right;\n",
       "    }\n",
       "</style>\n",
       "<table border=\"1\" class=\"dataframe\">\n",
       "  <thead>\n",
       "    <tr style=\"text-align: right;\">\n",
       "      <th></th>\n",
       "      <th>Study Hours</th>\n",
       "      <th>Previous Exam Score</th>\n",
       "    </tr>\n",
       "  </thead>\n",
       "  <tbody>\n",
       "    <tr>\n",
       "      <th>0</th>\n",
       "      <td>4.370861</td>\n",
       "      <td>81.889703</td>\n",
       "    </tr>\n",
       "    <tr>\n",
       "      <th>1</th>\n",
       "      <td>9.556429</td>\n",
       "      <td>72.165782</td>\n",
       "    </tr>\n",
       "    <tr>\n",
       "      <th>2</th>\n",
       "      <td>7.587945</td>\n",
       "      <td>58.571657</td>\n",
       "    </tr>\n",
       "    <tr>\n",
       "      <th>3</th>\n",
       "      <td>6.387926</td>\n",
       "      <td>88.827701</td>\n",
       "    </tr>\n",
       "    <tr>\n",
       "      <th>4</th>\n",
       "      <td>2.404168</td>\n",
       "      <td>81.083870</td>\n",
       "    </tr>\n",
       "    <tr>\n",
       "      <th>...</th>\n",
       "      <td>...</td>\n",
       "      <td>...</td>\n",
       "    </tr>\n",
       "    <tr>\n",
       "      <th>495</th>\n",
       "      <td>4.180170</td>\n",
       "      <td>45.494924</td>\n",
       "    </tr>\n",
       "    <tr>\n",
       "      <th>496</th>\n",
       "      <td>6.252905</td>\n",
       "      <td>95.038815</td>\n",
       "    </tr>\n",
       "    <tr>\n",
       "      <th>497</th>\n",
       "      <td>1.699612</td>\n",
       "      <td>48.209118</td>\n",
       "    </tr>\n",
       "    <tr>\n",
       "      <th>498</th>\n",
       "      <td>9.769553</td>\n",
       "      <td>97.014241</td>\n",
       "    </tr>\n",
       "    <tr>\n",
       "      <th>499</th>\n",
       "      <td>9.875897</td>\n",
       "      <td>66.760346</td>\n",
       "    </tr>\n",
       "  </tbody>\n",
       "</table>\n",
       "<p>500 rows × 2 columns</p>\n",
       "</div>"
      ],
      "text/plain": [
       "     Study Hours  Previous Exam Score\n",
       "0       4.370861            81.889703\n",
       "1       9.556429            72.165782\n",
       "2       7.587945            58.571657\n",
       "3       6.387926            88.827701\n",
       "4       2.404168            81.083870\n",
       "..           ...                  ...\n",
       "495     4.180170            45.494924\n",
       "496     6.252905            95.038815\n",
       "497     1.699612            48.209118\n",
       "498     9.769553            97.014241\n",
       "499     9.875897            66.760346\n",
       "\n",
       "[500 rows x 2 columns]"
      ]
     },
     "execution_count": 3,
     "metadata": {},
     "output_type": "execute_result"
    }
   ],
   "source": [
    "# Initial look at the data set, ensure no additional cleaning is needed\n",
    "df.head()\n",
    "df.nunique()\n",
    "\n",
    "df.dropna(inplace=True)\n",
    "df.drop(columns=[\"Pass/Fail\"])"
   ]
  },
  {
   "cell_type": "markdown",
   "id": "1761a858",
   "metadata": {},
   "source": [
    "## The K-Clustering Algorithm\n",
    "\n",
    "To begin the analysis, we will start by normalizing the two variables used for this analysis; Study Hours and Previous Exam Score. It is important to normalize the variables as it puts the variables on the same scale and in return improves the K-clustering algorithm. Next, to find the correct K-Value, we will use the \"Elbow Method,\" to help find the correct K-value for our analysis. It is called the \"Elbow Method\" as the graph produced by utilizing this method looks similar to a human elbow, and the point at where the elbow seems bent is the appropriate k-value. This visualizes the mean's distance from the centroid's rate of change. Finally we will produce our K-clustering visualization and interpret it with the desired k-value found from our elbow graph."
   ]
  },
  {
   "cell_type": "code",
   "execution_count": 4,
   "id": "86921120",
   "metadata": {},
   "outputs": [],
   "source": [
    "# Preprocessing: Normalize the variables\n",
    "scaler = StandardScaler()\n",
    "df[['Study Hours', 'Previous Exam Score']] = scaler.fit_transform(df[['Study Hours', 'Previous Exam Score']])\n",
    "\n",
    "# Feature selection\n",
    "X = df[['Study Hours', 'Previous Exam Score']]"
   ]
  },
  {
   "cell_type": "markdown",
   "id": "c51bc873",
   "metadata": {},
   "source": [
    "### The Elbow Graph"
   ]
  },
  {
   "cell_type": "code",
   "execution_count": 5,
   "id": "cefac5b3",
   "metadata": {},
   "outputs": [
    {
     "name": "stderr",
     "output_type": "stream",
     "text": [
      "C:\\Users\\noahc\\anaconda3\\lib\\site-packages\\sklearn\\cluster\\_kmeans.py:1036: UserWarning: KMeans is known to have a memory leak on Windows with MKL, when there are less chunks than available threads. You can avoid it by setting the environment variable OMP_NUM_THREADS=2.\n",
      "  warnings.warn(\n"
     ]
    },
    {
     "data": {
      "image/png": "[encoded data removed]",
      "text/plain": [
       "<Figure size 432x288 with 1 Axes>"
      ]
     },
     "metadata": {
      "needs_background": "light"
     },
     "output_type": "display_data"
    }
   ],
   "source": [
    "# Evaluate K from 1 to 10 clusters\n",
    "k_values = range(1, 11)\n",
    "\n",
    "# Apply K-Means for each K-value and compute WCSS\n",
    "wcss = []\n",
    "for k in k_values:\n",
    "    kmeans = KMeans(n_clusters=k, random_state=42)\n",
    "    kmeans.fit(X)\n",
    "    wcss.append(kmeans.inertia_)  # inertia_ contains WCSS value\n",
    "\n",
    "# Plot the Elbow Curve\n",
    "plt.plot(k_values, wcss, marker='o')\n",
    "plt.xlabel('Number of Clusters (K)')\n",
    "plt.ylabel('Within-Cluster Sum of Squares (WCSS)')\n",
    "plt.title('Elbow Method for Optimal K')\n",
    "plt.xticks(k_values)\n",
    "plt.show()"
   ]
  },
  {
   "cell_type": "markdown",
   "id": "432ff803",
   "metadata": {},
   "source": [
    "With the produced elbow graph, it seems the rate of change starts to stop changing is at 4. Therefore, for our analysis we will use the k-value of 4. \n",
    "\n",
    "### Cluster Plot"
   ]
  },
  {
   "cell_type": "code",
   "execution_count": 6,
   "id": "979c3a2a",
   "metadata": {},
   "outputs": [
    {
     "data": {
      "image/png": "[encoded data removed]",
      "text/plain": [
       "<Figure size 432x288 with 1 Axes>"
      ]
     },
     "metadata": {
      "needs_background": "light"
     },
     "output_type": "display_data"
    }
   ],
   "source": [
    "# Acknowledging the elbow-graph, make k-value equal to 4\n",
    "k = 4\n",
    "\n",
    "# Apply K-Means\n",
    "kmeans = KMeans(n_clusters=k, random_state=42)\n",
    "df['Cluster'] = kmeans.fit_predict(X)\n",
    "\n",
    "# Define label names\n",
    "label_names = ['DNS, GS', 'S, BS', 'DNS, BS', 'S, GS']\n",
    "\n",
    "# Visualize the clusters\n",
    "for cluster_label, label_name in zip(range(k), label_names):\n",
    "    cluster_data = df[df['Cluster'] == cluster_label]\n",
    "    plt.scatter(cluster_data['Study Hours'], cluster_data['Previous Exam Score'], label=label_name)\n",
    "\n",
    "    \n",
    "# Signal each cluster (Was used to ensure that we interpreted each cluster with the correct context)\n",
    "#for i, row in df.iterrows():\n",
    "    #plt.annotate(row['Cluster'], (row['Study Hours'], row['Previous Exam Score']), xytext=(0,10), ha='center')\n",
    "    \n",
    "plt.xlabel('Study Hours (normalized)')\n",
    "plt.ylabel('Previous Exam Score (normalized)')\n",
    "plt.title('K-Means Clustering')\n",
    "plt.legend()\n",
    "plt.show()"
   ]
  },
  {
   "cell_type": "markdown",
   "id": "ab8c9f85",
   "metadata": {},
   "source": [
    "##### Key:\n",
    "| Abbreviation | Label |\n",
    "|---------|-------|\n",
    "| S | Studied |\n",
    "| DNS | Did Not Study |\n",
    "| GS | Good Score |\n",
    "| BS | Bad Score |\n",
    "\n",
    "| Label | Plot Ruling |\n",
    "|---------|-------|\n",
    "| Studied | 0 ≤ x ≤ 5.5 + (SD(2.7)) |\n",
    "| Did Not Study | 5.5 - (SD(2.7)) ≤ x ≤ 0 |\n",
    "| Good Score | 0 ≤ x ≤ 68.9 + (SD(17.1)) |\n",
    "| Bad Score | 68.9 - (SD(17.1)) ≤ x ≤ 0 |\n",
    "\n",
    "##### Revisiting our Means and SDs before Normalizing\n",
    "* Mean Study Hours: 5.487055410106127\n",
    "* Standard Deviation Study Hours: 2.688195675704332\n",
    "* Previous Exam Score Mean: 68.91708366437523\n",
    "* Previous Exam Score Standard Deviation: 17.12960741315282\n",
    "\n",
    "A Good Score / Studied is defined by a datapoint being within a positive SD away from the mean, a Bad Score / Did Not Study is defined by being a negative SD away from the mean. It is important to notice that a \"Good\" attribute is good relative to the class. For the purpose of this plot, we visualized all datapoints within +/- 1.5 SD away from the mean. With this rule established, we can utilize the mean and standard deviation we found before normalizing our variables. Briefly, those that scored good achieved higher than the mean of 68, and those that scored bad recieved lower than a 68. Those that \"studied\" logged more than ~5.5 hours, those that \"Did Not Study\" logged less than that. \n",
    "\n",
    " * Note that the Mean Values are rounded to the nearest tenth on the table for convenience.\n",
    "\n",
    "\n",
    "| Label | Number in Cluster | Percentage of Total Dataset |\n",
    "|-----------------|-----------------|-----------------|\n",
    "| Did Not Study, Good Score (Blue)    | 112    | 22.4%    |\n",
    "| Studied, Bad Score (Yellow)    | 135    | 27%    |\n",
    "| Did Not Study, Bad Score (Green)   | 121    | 24.2%    |\n",
    "| Studied, Good Score (Red)   | 132    | 26.4%    |\n",
    "\n",
    "\n",
    "\n",
    "Our K-means visualization produced introduces four clusters which we defined into four different categories. Instructors, look away! With this dataset, it seems that there is no heavy advantage to those that studied. All clusters are within ~ +/- 2.5% of being perfectly split 25% 4 ways of the dataframe, meaning a difference of at max 13 students between all four catergories. With our analysis, we identify that our best performing group (cardinality-wise) were the students who studied, yet still achieved a bad score (Less than at least 68), with 135 students. Right behind that group is the students who studied and scored well on the exam (Above a 68), with 132. The third best group, those that did not study and recieved a bad score had 121 students, with our worst performing group having 121 students, those that did not study yet managed to achieve a good score.\n",
    "\n",
    "With this data, it is hard for us to say there is a defining answer that studying ensures you achieve a good score. Even if we ignored the cardinality of each cluster, the fact that 27% of students studied 5.5 hours and yet still scored less than a 68.9 is hard to ignore when claiming that studying ensures a good grade. Even if we focused on those who did achieve a \"good grade,\" plots right on the axis lines (0.0, 0.0) means they scored just above a 68, maybe a 70, 71. Personally, I wouldn't consider a C a \"good grade,\" and would be disappointed upon recieving said grade. It is also important to note that the exam scores given were previous exam scores. This means that students may have changed their study habits from test 1 to test 2, prompting a datapoint that does not exactly represent what we are wanting to analyze. "
   ]
  },
  {
   "cell_type": "code",
   "execution_count": 7,
   "id": "a550f1b9",
   "metadata": {},
   "outputs": [
    {
     "name": "stdout",
     "output_type": "stream",
     "text": [
      "Cluster 1: 135 data points (27.00%)\n",
      "Cluster 3: 132 data points (26.40%)\n",
      "Cluster 2: 121 data points (24.20%)\n",
      "Cluster 0: 112 data points (22.40%)\n"
     ]
    }
   ],
   "source": [
    "# Work for Table 3\n",
    "\n",
    "# Count the occurrences of each cluster label\n",
    "cluster_counts = df['Cluster'].value_counts()\n",
    "\n",
    "# Calculate the total number of data points\n",
    "total_datapoints = len(df)\n",
    "\n",
    "# Calculate the percentage of data points in each cluster\n",
    "cluster_percentages = (cluster_counts / total_datapoints) * 100\n",
    "\n",
    "# Print the results\n",
    "for cluster_label, count, percentage in zip(cluster_counts.index, cluster_counts.values, cluster_percentages.values):\n",
    "    print(f\"Cluster {cluster_label}: {count} data points ({percentage:.2f}%)\")"
   ]
  },
  {
   "cell_type": "markdown",
   "id": "12080ea2",
   "metadata": {},
   "source": [
    "## Conclusion\n",
    "\n",
    "Data analysis can prove many questions from where should we deploy our local police officers to is studying a legitimate way to score good on the upcoming exam. Utilizing k-clustering, we identified 4 clusters of students and seperated them into simple terms (Studied, Good Score etc.) We then found that the largest cluster where actually the students who had studied extensively (5+ hours) and ended up still doing bad on exams, with the lowest being those who did not study and miraculously still did good on the exam. While this sounds like hard-evidence, it is still difficult to solidify that studying ensures a good grade. All of our clusters were just about within +/- 2.5% of being evenly split 25/25/25/25 among four clusters, meaning that there is no real prominent answer. Another thing to note is what is a good exam score? While using Mean and SD, we identified 68+ being a good exam score, I personally would not enjoy recieving a 68 on an exam. Additionally we were given previous exam scores, how many students changed their study habits from the 1st to 2nd exam? Regardless, with our analysis it is hard to give a definitive answer of whether or not studying ensures a good test score. If we had to give you an answer, we would say you might as well start studying."
   ]
  }
 ],
 "metadata": {
  "kernelspec": {
   "display_name": "Python 3 (ipykernel)",
   "language": "python",
   "name": "python3"
  },
  "language_info": {
   "codemirror_mode": {
    "name": "ipython",
    "version": 3
   },
   "file_extension": ".py",
   "mimetype": "text/x-python",
   "name": "python",
   "nbconvert_exporter": "python",
   "pygments_lexer": "ipython3",
   "version": "3.9.12"
  }
 },
 "nbformat": 4,
 "nbformat_minor": 5
}
