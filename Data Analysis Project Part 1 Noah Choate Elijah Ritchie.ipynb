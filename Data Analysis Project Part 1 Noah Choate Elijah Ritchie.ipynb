{
 "cells": [
  {
   "cell_type": "markdown",
   "id": "e1decf88",
   "metadata": {},
   "source": [
    "# Data Analysis Project Part 1"
   ]
  },
  {
   "cell_type": "markdown",
   "id": "d4e9c4c5",
   "metadata": {},
   "source": [
    "### By Elijah Ritchie and Noah Choate"
   ]
  },
  {
   "cell_type": "markdown",
   "id": "920210b0",
   "metadata": {},
   "source": [
    "## Introduction"
   ]
  },
  {
   "cell_type": "markdown",
   "id": "73993ba1",
   "metadata": {},
   "source": [
    "Dogs have always been very popular pets because of their intelligence and loyalty, however different breeds tend to have varying personality traits that can make or break the experience. Behavior around strangers is one of the most important factors to consider when choosing a dog and this project aims to figure out which personality traits are most correlated to this. With this problem in mind, we set to identify which traits provide the best experience for a family."
   ]
  },
  {
   "cell_type": "markdown",
   "id": "d17c8f6e",
   "metadata": {},
   "source": [
    "## About the Data\n",
    "The dataset that will be studied includes ninety-six different dog breeds along with information including physical characteristics, personality traits, and how they behave around strangers, children, and other dogs. Because we are focusing on the personality traits of the different dog breeds, the physical characteristics will not play a role in our study. The variables in the data we will be focusing on are not physical measurements. Rather, they are scores ranging 1-5 based on how each breed normally tends to display the given trait. For example, in the 'playfullness' column, a score of 5 means that the breed is generally extremely playful. We are also given variables called 'good_with_strangers', 'good_with_children', and 'good_with_other_dogs' which are also scored on the 1-5 scale."
   ]
  },
  {
   "cell_type": "markdown",
   "id": "393cbcad",
   "metadata": {},
   "source": [
    "## Loading the Libraries and Data\n",
    "In order to figure out which personality traits correlate most with behavior around strangers, we will be using a random forest, so we will be using packages from numpy and pandas for data organization, sklearn for the actual algorithm, and matplotlib for visualization.\n",
    "\n",
    "The dataset is a csv from Kaggle, so it can easily be converted to a pandas dataframe. It also seems to be a very clean and organized dataset which is very nice because minimal effort will be required to use it."
   ]
  },
  {
   "cell_type": "code",
   "execution_count": 28,
   "id": "8694e9ff",
   "metadata": {},
   "outputs": [],
   "source": [
    "#This block imports the packages that will be needed for the random forest and analysis.\n",
    "from sklearn.ensemble import RandomForestClassifier\n",
    "from sklearn import datasets\n",
    "from sklearn.feature_selection import SelectFromModel\n",
    "import numpy as np\n",
    "import pandas as pd\n",
    "import matplotlib.pyplot as plt"
   ]
  },
  {
   "cell_type": "code",
   "execution_count": 29,
   "id": "1be854f3",
   "metadata": {
    "scrolled": false
   },
   "outputs": [
    {
     "data": {
      "text/html": [
       "<div>\n",
       "<style scoped>\n",
       "    .dataframe tbody tr th:only-of-type {\n",
       "        vertical-align: middle;\n",
       "    }\n",
       "\n",
       "    .dataframe tbody tr th {\n",
       "        vertical-align: top;\n",
       "    }\n",
       "\n",
       "    .dataframe thead th {\n",
       "        text-align: right;\n",
       "    }\n",
       "</style>\n",
       "<table border=\"1\" class=\"dataframe\">\n",
       "  <thead>\n",
       "    <tr style=\"text-align: right;\">\n",
       "      <th></th>\n",
       "      <th>Name</th>\n",
       "      <th>min_life_expectancy</th>\n",
       "      <th>max_life_expectancy</th>\n",
       "      <th>max_height_male</th>\n",
       "      <th>max_height_female</th>\n",
       "      <th>max_weight_male</th>\n",
       "      <th>max_weight_female</th>\n",
       "      <th>min_height_male</th>\n",
       "      <th>min_height_female</th>\n",
       "      <th>min_weight_male</th>\n",
       "      <th>...</th>\n",
       "      <th>shedding</th>\n",
       "      <th>grooming</th>\n",
       "      <th>drooling</th>\n",
       "      <th>coat_length</th>\n",
       "      <th>good_with_strangers</th>\n",
       "      <th>playfulness</th>\n",
       "      <th>protectiveness</th>\n",
       "      <th>trainability</th>\n",
       "      <th>energy</th>\n",
       "      <th>barking</th>\n",
       "    </tr>\n",
       "  </thead>\n",
       "  <tbody>\n",
       "    <tr>\n",
       "      <th>92</th>\n",
       "      <td>American Staffordshire Terrier</td>\n",
       "      <td>12</td>\n",
       "      <td>16</td>\n",
       "      <td>19.0</td>\n",
       "      <td>19.0</td>\n",
       "      <td>70.0</td>\n",
       "      <td>55.0</td>\n",
       "      <td>18.0</td>\n",
       "      <td>18.0</td>\n",
       "      <td>55.0</td>\n",
       "      <td>...</td>\n",
       "      <td>2</td>\n",
       "      <td>1</td>\n",
       "      <td>1</td>\n",
       "      <td>1</td>\n",
       "      <td>4</td>\n",
       "      <td>3</td>\n",
       "      <td>5</td>\n",
       "      <td>3</td>\n",
       "      <td>3</td>\n",
       "      <td>3</td>\n",
       "    </tr>\n",
       "    <tr>\n",
       "      <th>93</th>\n",
       "      <td>Australian Shepherd</td>\n",
       "      <td>12</td>\n",
       "      <td>15</td>\n",
       "      <td>23.0</td>\n",
       "      <td>23.0</td>\n",
       "      <td>65.0</td>\n",
       "      <td>55.0</td>\n",
       "      <td>20.0</td>\n",
       "      <td>20.0</td>\n",
       "      <td>50.0</td>\n",
       "      <td>...</td>\n",
       "      <td>3</td>\n",
       "      <td>2</td>\n",
       "      <td>1</td>\n",
       "      <td>1</td>\n",
       "      <td>3</td>\n",
       "      <td>4</td>\n",
       "      <td>3</td>\n",
       "      <td>5</td>\n",
       "      <td>5</td>\n",
       "      <td>3</td>\n",
       "    </tr>\n",
       "    <tr>\n",
       "      <th>94</th>\n",
       "      <td>Pembroke Welsh Corgi</td>\n",
       "      <td>12</td>\n",
       "      <td>13</td>\n",
       "      <td>12.0</td>\n",
       "      <td>12.0</td>\n",
       "      <td>31.0</td>\n",
       "      <td>28.0</td>\n",
       "      <td>10.0</td>\n",
       "      <td>10.0</td>\n",
       "      <td>24.0</td>\n",
       "      <td>...</td>\n",
       "      <td>4</td>\n",
       "      <td>2</td>\n",
       "      <td>1</td>\n",
       "      <td>1</td>\n",
       "      <td>4</td>\n",
       "      <td>4</td>\n",
       "      <td>5</td>\n",
       "      <td>4</td>\n",
       "      <td>4</td>\n",
       "      <td>4</td>\n",
       "    </tr>\n",
       "    <tr>\n",
       "      <th>95</th>\n",
       "      <td>Yorkshire Terrier</td>\n",
       "      <td>11</td>\n",
       "      <td>15</td>\n",
       "      <td>8.0</td>\n",
       "      <td>8.0</td>\n",
       "      <td>7.0</td>\n",
       "      <td>7.0</td>\n",
       "      <td>7.0</td>\n",
       "      <td>7.0</td>\n",
       "      <td>7.0</td>\n",
       "      <td>...</td>\n",
       "      <td>1</td>\n",
       "      <td>5</td>\n",
       "      <td>1</td>\n",
       "      <td>1</td>\n",
       "      <td>5</td>\n",
       "      <td>4</td>\n",
       "      <td>5</td>\n",
       "      <td>4</td>\n",
       "      <td>4</td>\n",
       "      <td>4</td>\n",
       "    </tr>\n",
       "    <tr>\n",
       "      <th>96</th>\n",
       "      <td>French Bulldog</td>\n",
       "      <td>10</td>\n",
       "      <td>12</td>\n",
       "      <td>13.0</td>\n",
       "      <td>13.0</td>\n",
       "      <td>28.0</td>\n",
       "      <td>26.0</td>\n",
       "      <td>11.0</td>\n",
       "      <td>11.0</td>\n",
       "      <td>20.0</td>\n",
       "      <td>...</td>\n",
       "      <td>3</td>\n",
       "      <td>1</td>\n",
       "      <td>3</td>\n",
       "      <td>1</td>\n",
       "      <td>5</td>\n",
       "      <td>5</td>\n",
       "      <td>3</td>\n",
       "      <td>4</td>\n",
       "      <td>3</td>\n",
       "      <td>1</td>\n",
       "    </tr>\n",
       "  </tbody>\n",
       "</table>\n",
       "<p>5 rows × 23 columns</p>\n",
       "</div>"
      ],
      "text/plain": [
       "                              Name  min_life_expectancy  max_life_expectancy  \\\n",
       "92  American Staffordshire Terrier                   12                   16   \n",
       "93             Australian Shepherd                   12                   15   \n",
       "94            Pembroke Welsh Corgi                   12                   13   \n",
       "95               Yorkshire Terrier                   11                   15   \n",
       "96                  French Bulldog                   10                   12   \n",
       "\n",
       "    max_height_male  max_height_female  max_weight_male  max_weight_female  \\\n",
       "92             19.0               19.0             70.0               55.0   \n",
       "93             23.0               23.0             65.0               55.0   \n",
       "94             12.0               12.0             31.0               28.0   \n",
       "95              8.0                8.0              7.0                7.0   \n",
       "96             13.0               13.0             28.0               26.0   \n",
       "\n",
       "    min_height_male  min_height_female  min_weight_male  ...  shedding  \\\n",
       "92             18.0               18.0             55.0  ...         2   \n",
       "93             20.0               20.0             50.0  ...         3   \n",
       "94             10.0               10.0             24.0  ...         4   \n",
       "95              7.0                7.0              7.0  ...         1   \n",
       "96             11.0               11.0             20.0  ...         3   \n",
       "\n",
       "    grooming  drooling  coat_length  good_with_strangers  playfulness  \\\n",
       "92         1         1            1                    4            3   \n",
       "93         2         1            1                    3            4   \n",
       "94         2         1            1                    4            4   \n",
       "95         5         1            1                    5            4   \n",
       "96         1         3            1                    5            5   \n",
       "\n",
       "    protectiveness  trainability  energy  barking  \n",
       "92               5             3       3        3  \n",
       "93               3             5       5        3  \n",
       "94               5             4       4        4  \n",
       "95               5             4       4        4  \n",
       "96               3             4       3        1  \n",
       "\n",
       "[5 rows x 23 columns]"
      ]
     },
     "execution_count": 29,
     "metadata": {},
     "output_type": "execute_result"
    }
   ],
   "source": [
    "#Read the csv data file into a pandas dataframe\n",
    "dog_data = pd.read_csv('dog_breeds.csv')\n",
    "dog_data.tail()"
   ]
  },
  {
   "cell_type": "markdown",
   "id": "8ee6b095",
   "metadata": {},
   "source": [
    "## Subsetting and Choosing Features/Target\n",
    "As mentioned before, we will not be using physical characteristics of different breeds in our algorithm because they are not related to how dogs will act around strangers. The personality traits included in the data are \"playfulness\", \"protectiveness\", \"trainability\", \"energy\", and \"barking\". These will be the features that are compared to the target which is called \"good_with_strangers\". "
   ]
  },
  {
   "cell_type": "code",
   "execution_count": 30,
   "id": "fd2902a3",
   "metadata": {},
   "outputs": [],
   "source": [
    "#This code subsets the dataframe into 2--One contains independent variables and the other contains the target variable.\n",
    "dog_independent = ['playfulness', 'protectiveness', 'trainability', 'energy', 'barking']\n",
    "dog_dependent = ['good_with_strangers']\n",
    "\n",
    "dog_features = dog_data[dog_independent]\n",
    "dog_target = np.ravel(dog_data[dog_dependent])"
   ]
  },
  {
   "cell_type": "markdown",
   "id": "0e66ea52",
   "metadata": {},
   "source": [
    "## Creating the Random Forest and Retrieving Feature Importances\n",
    "Now that we have the features and the target, we can fit them to the random forest algorithm. This can allow us to predict values for the good_with_strangers target variable when given data for the variables in dog_features. However, our goal is only to find out the importances of each of these variables which can easily be extracted with a function which is used in the following code. The variables with high importance values are highly correlated to whether dogs are good with strangers and those with low values do not have much correlation. "
   ]
  },
  {
   "cell_type": "code",
   "execution_count": 31,
   "id": "cccd1e98",
   "metadata": {},
   "outputs": [
    {
     "data": {
      "text/plain": [
       "RandomForestClassifier()"
      ]
     },
     "execution_count": 31,
     "metadata": {},
     "output_type": "execute_result"
    }
   ],
   "source": [
    "#Fit the data to a random forest object\n",
    "dog_forest = RandomForestClassifier()\n",
    "dog_forest.fit(dog_features, dog_target)"
   ]
  },
  {
   "cell_type": "code",
   "execution_count": 32,
   "id": "ce78271e",
   "metadata": {},
   "outputs": [
    {
     "name": "stdout",
     "output_type": "stream",
     "text": [
      "Index(['playfulness', 'protectiveness', 'trainability', 'energy', 'barking'], dtype='object')\n",
      "[0.24390694 0.24356627 0.16376951 0.15975547 0.18900182]\n"
     ]
    }
   ],
   "source": [
    "#Retrieve the importance values for each feature variable\n",
    "dog_importances = dog_forest.feature_importances_\n",
    "names = dog_features.columns\n",
    "\n",
    "#Print the features and their importance values\n",
    "print(names)\n",
    "print(dog_importances)"
   ]
  },
  {
   "cell_type": "markdown",
   "id": "6816035c",
   "metadata": {},
   "source": [
    "## Analysis of the Importance Values\n",
    "The indices of the names list line up with the indices of the dog_importances list. Both are printed above this text. We can see that playfulness had the highest correlation value which was 0.250. Protectiveness was a close second with a value of 0.232. This did not surprise me because protective dogs may be aggressive to people they don't know because they feel that it would protect their owners. Playful dogs tend to have good intentions with their behavior, but it may seem problematic when they meet a stranger. We were surprised to see that trainability had one of the lower importance values, but the data describes each breed as a generalization that may not consider if the dogs are trained or not when interacting with a stranger. Energy had the lowest importance value and we feel that this makes sense because energy level is not exactly a personality trait and there definitely can be dogs of all energy levels that react to new people in different ways. The barking variable had an importance score of 0.1831 which means that it has a moderate amount of correlation compared to the others. This also seems correct because playfulness, protectiveness, trainability, and energy all relate to how much a dog barks."
   ]
  },
  {
   "cell_type": "markdown",
   "id": "e0d55b0c",
   "metadata": {},
   "source": [
    "## Bar Graph Visualization\n",
    "We now know which dog traits correlate the most and least with behavior around strangers, but visualization is important for us to understand the weight of these values compared to each other."
   ]
  },
  {
   "cell_type": "code",
   "execution_count": 33,
   "id": "ef8a8de7",
   "metadata": {},
   "outputs": [
    {
     "data": {
      "text/plain": [
       "<function matplotlib.pyplot.show(close=None, block=None)>"
      ]
     },
     "execution_count": 33,
     "metadata": {},
     "output_type": "execute_result"
    },
    {
     "data": {
      "image/png": "[encoded data removed]",
      "text/plain": [
       "<Figure size 432x288 with 1 Axes>"
      ]
     },
     "metadata": {
      "needs_background": "light"
     },
     "output_type": "display_data"
    }
   ],
   "source": [
    "#Color list for coloring the bar graph\n",
    "colors = ['blue', 'green', 'orange', 'yellow', 'purple']\n",
    "\n",
    "#Bar graph that visualizes each of the importances\n",
    "plt.figure()\n",
    "plt.title(\"Dog Personality Traits' Correlation to Behavior Around Strangers\")\n",
    "plt.bar(range(dog_features.shape[1]),dog_importances, color=colors)\n",
    "plt.xticks(range(dog_features.shape[1]), names, rotation=90)\n",
    "plt.show"
   ]
  },
  {
   "cell_type": "markdown",
   "id": "534aaf47",
   "metadata": {},
   "source": [
    "## Visualization Analysis\n",
    "The main information we obtained from the visualization was that all of the feature variables had a decent amount of importance toward determining how a dog might behave around strangers. The lowest importance value which is 0.165 still signifies that energy had some relation to the good_with_strangers target variable. Playfulness and protectiveness obviously show the most correlation to that variable and should be considered the most when looking for a dog that is good with strangers. After seeing the visualization, we determined that trainability, energy, and barking should definitely be considered as well because they have values that are not too far off the variables with higher importance. "
   ]
  },
  {
   "cell_type": "markdown",
   "id": "bb6aadc8",
   "metadata": {},
   "source": [
    "## Results/Conclusion\n",
    "Choosing a dog to bring home that will treat random people nicely can be a challenge, so knowing what to look for can pay off if done right. A dog that is good with strangers allows owners to relax when introducing their dog to new people and it can prevent incidents where dogs may act intimidating or violent. This analysis showed that playfulness and protectiveness are the traits to look out for the most because they had importance values that were relatively high compared to the others. Each of the lower-importance traits prove to have decent correlation to behavior around strangers according to the random forest model, so they definitely should also be considered. It would be a good idea for people who frequently have guests over or regularly take their dogs with them when leaving the house to pay close attention to the playfulness and protectiveness of their next prospective pet. This effort in the beginning can prevent pet troubles in the long run and lead to long, loving relationships between dogs and their owners."
   ]
  }
 ],
 "metadata": {
  "kernelspec": {
   "display_name": "Python 3 (ipykernel)",
   "language": "python",
   "name": "python3"
  },
  "language_info": {
   "codemirror_mode": {
    "name": "ipython",
    "version": 3
   },
   "file_extension": ".py",
   "mimetype": "text/x-python",
   "name": "python",
   "nbconvert_exporter": "python",
   "pygments_lexer": "ipython3",
   "version": "3.9.12"
  }
 },
 "nbformat": 4,
 "nbformat_minor": 5
}
