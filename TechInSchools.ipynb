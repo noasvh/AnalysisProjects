{
 "cells": [
  {
   "cell_type": "markdown",
   "id": "539c0354",
   "metadata": {},
   "source": [
    "# Algorithms and Data Structures Final Persuasive Analysis\n",
    "### Noah Choate and Eli Ritchie"
   ]
  },
  {
   "cell_type": "markdown",
   "id": "62db5315",
   "metadata": {},
   "source": [
    "## Introduction\n",
    "\n",
    "Ever since the advent of the computer, schools across the United States have tried to get as many computers as possible into students hands for educational purposes. As the price tag of the personal computer dropped moving into the 21st century, more opportunities arrived for students to learn with technology by their side. With the COVID-19 pandemic in 2020, online schooling went into full effect, with classes rapidly shifting their material into online counterparts for students to learn. While computers allowed us to execute a feasible method of education during the pandemic to students across the United States, the decline in the quality of the education provided is typically never publicized or talked about. In this analysis, we aim to compare SAT and ACT standardized test scores in the state of Texas from pre-pandemic years (2018), to post-pandemic years (2022), and analyze the difference, if any, in the scores students achieved with the shift in education modes to show the decline in education quality as we put more emphasis on learning online. We will do this by utilizing the 2018 data to estimate data for 2022, then compare it to the actual 2022 data. "
   ]
  },
  {
   "cell_type": "markdown",
   "id": "e7d71ba8",
   "metadata": {},
   "source": [
    "## Data Information\n",
    "\n",
    "### About the Data\n",
    "\n",
    "For the purpose of this assignment we have gathered information regarding Texas high school students' SAT and ACT standardized test grades from the graduating classes of 2018 and 2022 from the Texas Education Agency's (TEA) government website. We selected the two different years (2018, 2022) to analyze the difference in education during the COVID-19 Pandemic. The datasets we selected are nearly identical containing 58,751 and 61,445 datapoints for the 2018 and 2022 graduating classes respectively, each with 14 columns. \n",
    "\n",
    "### Loading the Data / Packages\n",
    "\n",
    "To begin our project, we started by loading in pandas in order to manipulate our dataframe to our liking for the best possible model. Regarding the model, we load in SKLearn with libraries in particular that help us split our dataset in train and testing datasets, perform our KNN analysis, and perform a mean squared error (MSE) test to verify the accuracy of our model. Next, for some necessary computations we loaded in math, as well as matplotlib and seaborn for our visuals later on in the analysis."
   ]
  },
  {
   "cell_type": "code",
   "execution_count": 1,
   "id": "7f4521d7",
   "metadata": {},
   "outputs": [],
   "source": [
    "# Load necessary libraries\n",
    "import pandas as pd\n",
    "from sklearn.model_selection import train_test_split\n",
    "from sklearn.neighbors import KNeighborsRegressor\n",
    "from sklearn.metrics import mean_squared_error\n",
    "from math import sqrt\n",
    "%matplotlib inline\n",
    "import matplotlib.pyplot as plt\n",
    "import seaborn as sns"
   ]
  },
  {
   "cell_type": "code",
   "execution_count": 2,
   "id": "01373516",
   "metadata": {},
   "outputs": [],
   "source": [
    "# Read dataframes in\n",
    "df2018 = pd.read_excel(\"data/districttest2018.xlsx\")\n",
    "df2022 = pd.read_excel(\"data/districttest2022.xlsx\")"
   ]
  },
  {
   "cell_type": "code",
   "execution_count": 3,
   "id": "06148515",
   "metadata": {
    "scrolled": true
   },
   "outputs": [
    {
     "data": {
      "text/html": [
       "<div>\n",
       "<style scoped>\n",
       "    .dataframe tbody tr th:only-of-type {\n",
       "        vertical-align: middle;\n",
       "    }\n",
       "\n",
       "    .dataframe tbody tr th {\n",
       "        vertical-align: top;\n",
       "    }\n",
       "\n",
       "    .dataframe thead th {\n",
       "        text-align: right;\n",
       "    }\n",
       "</style>\n",
       "<table border=\"1\" class=\"dataframe\">\n",
       "  <thead>\n",
       "    <tr style=\"text-align: right;\">\n",
       "      <th></th>\n",
       "      <th>Group</th>\n",
       "      <th>District</th>\n",
       "      <th>DistName</th>\n",
       "      <th>County</th>\n",
       "      <th>CntyName</th>\n",
       "      <th>Region</th>\n",
       "      <th>RegnName</th>\n",
       "      <th>Grads_Mskd</th>\n",
       "      <th>Exnees_Mskd</th>\n",
       "      <th>Part_Rate</th>\n",
       "      <th>Crit_Mskd</th>\n",
       "      <th>Above_Crit_Rate</th>\n",
       "      <th>TSI_Both_Mskd</th>\n",
       "      <th>Above_TSI_Both_Rate</th>\n",
       "    </tr>\n",
       "  </thead>\n",
       "  <tbody>\n",
       "    <tr>\n",
       "      <th>58747</th>\n",
       "      <td>Not Foster Care</td>\n",
       "      <td>254902</td>\n",
       "      <td>La Pryor ISD</td>\n",
       "      <td>254</td>\n",
       "      <td>Zavala County</td>\n",
       "      <td>20</td>\n",
       "      <td>San Antonio</td>\n",
       "      <td>&lt;50</td>\n",
       "      <td>&lt;25</td>\n",
       "      <td>68.8</td>\n",
       "      <td>&lt;25</td>\n",
       "      <td>13.6</td>\n",
       "      <td>&lt;25</td>\n",
       "      <td>9.1</td>\n",
       "    </tr>\n",
       "    <tr>\n",
       "      <th>58748</th>\n",
       "      <td>Missing Foster Care</td>\n",
       "      <td>254902</td>\n",
       "      <td>La Pryor ISD</td>\n",
       "      <td>254</td>\n",
       "      <td>Zavala County</td>\n",
       "      <td>20</td>\n",
       "      <td>San Antonio</td>\n",
       "      <td>&lt;25</td>\n",
       "      <td>&lt;25</td>\n",
       "      <td>NaN</td>\n",
       "      <td>&lt;25</td>\n",
       "      <td>NaN</td>\n",
       "      <td>&lt;25</td>\n",
       "      <td>NaN</td>\n",
       "    </tr>\n",
       "    <tr>\n",
       "      <th>58749</th>\n",
       "      <td>Military-Connected</td>\n",
       "      <td>254902</td>\n",
       "      <td>La Pryor ISD</td>\n",
       "      <td>254</td>\n",
       "      <td>Zavala County</td>\n",
       "      <td>20</td>\n",
       "      <td>San Antonio</td>\n",
       "      <td>&lt;25</td>\n",
       "      <td>&lt;25</td>\n",
       "      <td>NaN</td>\n",
       "      <td>&lt;25</td>\n",
       "      <td>NaN</td>\n",
       "      <td>&lt;25</td>\n",
       "      <td>NaN</td>\n",
       "    </tr>\n",
       "    <tr>\n",
       "      <th>58750</th>\n",
       "      <td>Not Military-Connected</td>\n",
       "      <td>254902</td>\n",
       "      <td>La Pryor ISD</td>\n",
       "      <td>254</td>\n",
       "      <td>Zavala County</td>\n",
       "      <td>20</td>\n",
       "      <td>San Antonio</td>\n",
       "      <td>&lt;50</td>\n",
       "      <td>&lt;25</td>\n",
       "      <td>68.8</td>\n",
       "      <td>&lt;25</td>\n",
       "      <td>13.6</td>\n",
       "      <td>&lt;25</td>\n",
       "      <td>9.1</td>\n",
       "    </tr>\n",
       "    <tr>\n",
       "      <th>58751</th>\n",
       "      <td>Missing Military-Connected</td>\n",
       "      <td>254902</td>\n",
       "      <td>La Pryor ISD</td>\n",
       "      <td>254</td>\n",
       "      <td>Zavala County</td>\n",
       "      <td>20</td>\n",
       "      <td>San Antonio</td>\n",
       "      <td>&lt;25</td>\n",
       "      <td>&lt;25</td>\n",
       "      <td>NaN</td>\n",
       "      <td>&lt;25</td>\n",
       "      <td>NaN</td>\n",
       "      <td>&lt;25</td>\n",
       "      <td>NaN</td>\n",
       "    </tr>\n",
       "  </tbody>\n",
       "</table>\n",
       "</div>"
      ],
      "text/plain": [
       "                            Group  District      DistName  County  \\\n",
       "58747             Not Foster Care    254902  La Pryor ISD     254   \n",
       "58748         Missing Foster Care    254902  La Pryor ISD     254   \n",
       "58749          Military-Connected    254902  La Pryor ISD     254   \n",
       "58750      Not Military-Connected    254902  La Pryor ISD     254   \n",
       "58751  Missing Military-Connected    254902  La Pryor ISD     254   \n",
       "\n",
       "            CntyName  Region     RegnName Grads_Mskd Exnees_Mskd  Part_Rate  \\\n",
       "58747  Zavala County      20  San Antonio        <50         <25       68.8   \n",
       "58748  Zavala County      20  San Antonio        <25         <25        NaN   \n",
       "58749  Zavala County      20  San Antonio        <25         <25        NaN   \n",
       "58750  Zavala County      20  San Antonio        <50         <25       68.8   \n",
       "58751  Zavala County      20  San Antonio        <25         <25        NaN   \n",
       "\n",
       "      Crit_Mskd  Above_Crit_Rate TSI_Both_Mskd  Above_TSI_Both_Rate  \n",
       "58747       <25             13.6           <25                  9.1  \n",
       "58748       <25              NaN           <25                  NaN  \n",
       "58749       <25              NaN           <25                  NaN  \n",
       "58750       <25             13.6           <25                  9.1  \n",
       "58751       <25              NaN           <25                  NaN  "
      ]
     },
     "execution_count": 3,
     "metadata": {},
     "output_type": "execute_result"
    }
   ],
   "source": [
    "df2018.tail()"
   ]
  },
  {
   "cell_type": "markdown",
   "id": "6e35e264",
   "metadata": {},
   "source": [
    "### Preparing / Cleaning the Data\n",
    "\n",
    "We begin cleaning our data by dropping all missing / NA values from each dataset. We then begin by filtering the \"Group\" column to contain only rows that read \"All Students.\" We did this because each group described failed to give us a general answer of did students perform well, such as \"African-American\" or sometimes described oddly-specific such as 'Missing Military-Connected.\" For the purpose of this assignments, we want to analyze all students, not just one particular group. We finished the cleaning by dropping some leaving Region in the event we want to highlight a specific region later on. Another set of columns we dropped were ones ending in \"MSKD\" columns that estimated the amount of students in a very general term. Unfortunately some rows of data had \"<25\" and \"<50\" which is a hard to use in an algorithm - it could be 3 or possibly 23. We concluded the cleaning aspect of our data by confirming our datatypes were appropriate for our algorithm. "
   ]
  },
  {
   "cell_type": "code",
   "execution_count": 4,
   "id": "e8b63dbd",
   "metadata": {},
   "outputs": [],
   "source": [
    "# Drop missing / null values\n",
    "df2018 = df2018.dropna()\n",
    "df2022 = df2022.dropna()\n",
    "\n",
    "# If row in column \"Group\" does not read \"All Students\" - drop\n",
    "df2018 = df2018[df2018['Group'] == 'All Students']\n",
    "df2022 = df2022[df2022['Group'] == 'All Students']\n",
    "\n",
    "# Drop unnecessary columns\n",
    "df2018.drop(columns=['Group', 'District', 'DistName', 'CntyName', 'Grads_Mskd', 'Exnees_Mskd', 'Crit_Mskd', 'TSI_Both_Mskd'], inplace=True)\n",
    "df2022.drop(columns=['Group', 'District', 'DistName', 'CntyName', 'Grads_Mskd', 'Exnees_Mskd', 'Crit_Mskd', 'TSI_Both_Mskd'], inplace=True)\n",
    "\n",
    "# Confirm appropriate datatypes \n",
    "df2022.dtypes\n",
    "df2018.dtypes"
   ]
  },
  {
   "cell_type": "markdown",
   "id": "8e3cf9a9",
   "metadata": {},
   "source": []
  },
  {
   "cell_type": "code",
   "execution_count": 6,
   "id": "9c1c5422",
   "metadata": {},
   "outputs": [
    {
     "name": "stdout",
     "output_type": "stream",
     "text": [
      "Mean Squared Error: 59.86759913978496\n"
     ]
    }
   ],
   "source": [
    "# Split 2018 data into features and target variable\n",
    "X = df2018[['County', 'Region', 'Part_Rate', 'Above_TSI_Both_Rate']]\n",
    "y = df2018['Above_Crit_Rate']\n",
    "\n",
    "# Split data into training and testing sets\n",
    "X_train, X_test, y_train, y_test = train_test_split(X, y, test_size=0.2, random_state=42)\n",
    "\n",
    "# Train KNN model\n",
    "knn_model = KNeighborsRegressor(n_neighbors=5)\n",
    "knn_model.fit(X_train, y_train)\n",
    "\n",
    "# Predict 2022 scores using the trained model\n",
    "y_pred_2022 = knn_model.predict(df2022[['County', 'Region', 'Part_Rate', 'Above_TSI_Both_Rate']])\n",
    "\n",
    "# Compare predictions with actual 2022 scores\n",
    "mse = mean_squared_error(df2022['Above_Crit_Rate'], y_pred_2022)\n",
    "print(\"Mean Squared Error:\", mse)"
   ]
  },
  {
   "cell_type": "markdown",
   "id": "96427f7b",
   "metadata": {},
   "source": [
    "### Visualization\n",
    "\n",
    "In order to visualize the difference in education quality, we aimed to plot how we predicted the school districts in the class of 2022 to perform on their standardized tests based on the data from the class of 2018 and plot it with the actual data from the class of 2022. To grade each school district, we divided them into two groups, overestimates and underestimates. Overestimates were instances where we had predicted the class of 2022 to do better in a particular school district than they actually did. Underestimates were school districts where where we had predicted the class of 2022 to perform worse than they actually did. We then plotted the visual, with a legend explaining the colors and the number of Underestimates and Overestimates. Note that the different colors do not have a \"good\" or \"bad\" association with them. "
   ]
  },
  {
   "cell_type": "code",
   "execution_count": 10,
   "id": "c6bf24e5",
   "metadata": {},
   "outputs": [
    {
     "data": {
      "image/png": "[encoded data removed]",
      "text/plain": [
       "<Figure size 576x432 with 1 Axes>"
      ]
     },
     "metadata": {
      "needs_background": "light"
     },
     "output_type": "display_data"
    }
   ],
   "source": [
    "# Scatter plot\n",
    "plt.figure(figsize=(8, 6))\n",
    "\n",
    "# Plot underestimates (actual > predicted) as green\n",
    "underestimates = df2022[df2022['Above_Crit_Rate'] > y_pred_2022]\n",
    "plt.scatter(underestimates['Above_Crit_Rate'], y_pred_2022[df2022['Above_Crit_Rate'] > y_pred_2022], color='red', label='Underestimates (Actual > Predicted)')\n",
    "\n",
    "# Plot underestimates (actual < predicted) as red\n",
    "overestimates = df2022[df2022['Above_Crit_Rate'] < y_pred_2022]\n",
    "plt.scatter(overestimates['Above_Crit_Rate'], y_pred_2022[df2022['Above_Crit_Rate'] < y_pred_2022], color='green', label='Overestimates (Actual < Predicted)')\n",
    "\n",
    "# Plot Perfect Prediction line\n",
    "plt.plot([df2022['Above_Crit_Rate'].min(), df2022['Above_Crit_Rate'].max()],\n",
    "         [df2022['Above_Crit_Rate'].min(), df2022['Above_Crit_Rate'].max()],\n",
    "         color='black', linestyle='--', label='Perfect Prediction')\n",
    "\n",
    "plt.xlabel('Actual 2022 Scores')\n",
    "plt.ylabel('Predicted 2022 Scores')\n",
    "plt.title('Actual vs Predicted 2022 Scores')\n",
    "\n",
    "# Move legend to bottom right corner\n",
    "plt.legend(loc='lower right')\n",
    "\n",
    "# Add counts of overestimates and underestimates in the top left corner\n",
    "plt.text(0.05, 0.95, f'Underestimates: {len(underestimates)}', transform=plt.gca().transAxes, verticalalignment='top', color='red')\n",
    "plt.text(0.05, 0.9, f'Overestimates: {len(overestimates)}', transform=plt.gca().transAxes, verticalalignment='top', color='green')\n",
    "\n",
    "plt.show()"
   ]
  },
  {
   "cell_type": "markdown",
   "id": "e5c94ee8",
   "metadata": {},
   "source": [
    "## Conclusion\n",
    "\n",
    "After analyzing the data, we found that there were 353 \"Underestimates\" and 576 \"Overestimates\" per the model. The green \"Overestimates\" plots describes districts that performed worse than our model had predicted. The green \"Underestimates,\" plots describes school districts where the districts performed better than than our model had predicted. In this analysis, we found 223 more instances where the school had performed worse than what we had predicted. With this information, we can tell that with data collected prior to the pandemic, we had generally expected students across Texas to perform better in the graduating class of 2022 than they actually did. This is important as it shows that maybe school districts should move away from computers when teaching the next generations of students. One important aspect to note is the reality that students and districts were impacted unfairly. Because of this, there may be situations where students performed worse not because of the implementation of technology, but the fact that there was a global pandemic, families struggled economically, psychologically etc.  "
   ]
  },
  {
   "cell_type": "code",
   "execution_count": null,
   "id": "63654360",
   "metadata": {},
   "outputs": [],
   "source": []
  }
 ],
 "metadata": {
  "kernelspec": {
   "display_name": "Python 3 (ipykernel)",
   "language": "python",
   "name": "python3"
  },
  "language_info": {
   "codemirror_mode": {
    "name": "ipython",
    "version": 3
   },
   "file_extension": ".py",
   "mimetype": "text/x-python",
   "name": "python",
   "nbconvert_exporter": "python",
   "pygments_lexer": "ipython3",
   "version": "3.9.12"
  }
 },
 "nbformat": 4,
 "nbformat_minor": 5
}
